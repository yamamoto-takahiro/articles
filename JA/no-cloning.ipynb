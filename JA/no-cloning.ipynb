{
 "cells": [
  {
   "cell_type": "markdown",
   "metadata": {},
   "source": [
    "# 量子複製不可能 (No-Cloning) 定理\n",
    "\n",
    "量子情報が古典情報と大きく違う点の 1例として、任意の量子状態を複製する事は出来ないという `量子複製不可能 (No-Cloning) 定理` がある。\n",
    "つまり、任意の状態 $\\left| \\psi \\right>$　に対して $U \\left| \\psi \\right> \\otimes \\left| 0 \\right> = \\left| \\psi \\right> \\otimes \\left| \\psi \\right>$ を満たすユニタリー演算子 $U$ は存在しない事を示している。\n",
    "もし $\\left| 0 \\right>$ と $\\left| 1 \\right>$ のように直行した状態であれば\n",
    "$$U \\left| 0 \\right>_A \\left| 0 \\right>_E = \\left| 0 \\right>_A \\left| 0 \\right>_E $$\n",
    "$$U \\left| 1 \\right>_A \\left| 0 \\right>_E = \\left| 1 \\right>_A \\left| 1 \\right>_E $$\n",
    "\n",
    "を満たすユニタリー演算子 $U$ が存在する。しかし任意の状態 $\\left| \\psi \\right> = \\alpha \\left| 0 \\right> + \\beta \\left| 1 \\right>$　に対して $U$ を作用させると、\n",
    "$$U (\\alpha \\left| 0 \\right>_A + \\beta \\left| 1 \\right>_A) \\left| 0 \\right>_E = \\alpha \\left| 0 \\right>_A \\left| 0 \\right>_E + \\beta \\left| 1 \\right>_A \\left| 1 \\right>_E$$\n",
    "となるがこれは $\\left| \\psi \\right> \\otimes \\left| \\psi \\right>$ とは異なり、エンタングルされた状態である。\n",
    "\n",
    "状態の複製は非線形の操作であり、ユニタリー演算で行う事は出来ない。\n",
    "\n",
    "また、仮に任意の量子状態を複製する事が可能であれば、交換しない演算子の測定を同時に行う事が出来てしまい不確定性原理に反してしまう。\n",
    "例えば $X$ と $Y$ は交換しない ([$X$, $Y$] = $i Z$) のでそれぞれの固有値を同時に測定する事は出来ない。\n",
    "もし量子状態の複製が可能であれば、$\\left| \\psi \\right> \\otimes \\left| \\psi \\right>$ の状態を準備した後\n",
    "($X \\otimes Y) \\left| \\psi \\right> \\otimes \\left| \\psi \\right>$ と同時に測定が出来てしまう。\n",
    "\n",
    "この事からも、量子状態の複製が不可能である事が分かるであろう。"
   ]
  },
  {
   "cell_type": "code",
   "execution_count": null,
   "metadata": {},
   "outputs": [],
   "source": []
  }
 ],
 "metadata": {
  "kernelspec": {
   "display_name": "Python 3",
   "language": "python",
   "name": "python3"
  },
  "language_info": {
   "codemirror_mode": {
    "name": "ipython",
    "version": 3
   },
   "file_extension": ".py",
   "mimetype": "text/x-python",
   "name": "python",
   "nbconvert_exporter": "python",
   "pygments_lexer": "ipython3",
   "version": "3.7.1"
  }
 },
 "nbformat": 4,
 "nbformat_minor": 2
}
