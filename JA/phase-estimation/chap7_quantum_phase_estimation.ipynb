{
 "cells": [
  {
   "cell_type": "markdown",
   "metadata": {},
   "source": [
    "## 7. 位相推定に基づくアルゴリズム"
   ]
  },
  {
   "cell_type": "markdown",
   "metadata": {},
   "source": [
    "この章では位相推定 (Quantum Phase Estimation) のサブルーサブルーチンを用いた実用的なアルゴリズムを2例紹介する。位相推定はユニタリー演算子の固有値を求める問題に帰着できる問題に適用することができる。\n",
    "1. 量子多体系ハミルトニアンの固有値問題 (水素分子の規定エネルギー)\n",
    "2. 逆行列を求める問題 (HHL)\n",
    "\n",
    "応用例を見る前に、位相推定アルゴリズム\n",
    "\n",
    "### 7-1. 位相推定再訪\n",
    "量子位相推定 (Quantum Phase Estimation, QPE) は、適当なユニタリー $U$ が与えられたとき、その固有値 $e^{i \\lambda}$ をビット列として取り出すためのアルゴリズムである。\n",
    "\n",
    "$U$ の固有値 $e^{i \\lambda_i}$ に対応する固有ベクトルを $| u_i \\rangle$ とする ($U | u_i \\rangle = e^{i \\lambda_i} | u_i \\rangle$)。この時、制御ユニタリ演算 $\\Lambda (U)$ と量子フーリエ変換を用いて、次の変換を実現する。\n",
    "$$\n",
    "| u_i \\rangle | 0^{\\otimes t} \\rangle \\xrightarrow{\\text{QPE}} | u_i \\rangle | \\tilde{\\lambda_i} \\rangle\n",
    "$$\n",
    "ただし $\\tilde{\\lambda_i}$ は $\\lambda_i$ を2進展開したビット列:\n",
    "$$\n",
    "\\frac{\\tilde{\\lambda_i}}{2 \\pi} = \\frac{j_1}{2} + \\frac{j_2}{2^2} + \\ldots + \\frac{j_t}{2^t} = 0.j_1 j_2 \\ldots j_t\n",
    "$$ \n",
    "である (詳細は[2-4. 位相推定アルゴリズム（入門編）](https://github.com/qulacs/quantum-native-dojo/blob/master/notebooks/2.4_phase_estimation_beginner.ipynb) を参照)。\n",
    "\n",
    "この位相推定アルゴリズムをサブルーチンとして用いると、素因数分解や量子多体系のエネルギー計算といった固有値問題に帰着できる多くの問題を、古典コンピュータと比べて効率よく (指数的に高速) 解けることが期待されている事にも触れた。\n",
    "\n",
    "ここで注意が必要なのは、このアルゴリズムは任意の制御ユニタリーゲート $\\Lambda (U^{2k})$ ($0 \\leq k \\leq t$) が用意できると仮定している事である。実際、後で述べるように制御ユニタリーゲートを実機で実行可能なゲートセットに分解して構成したり、固有値のビット列を取り出す際の逆フーリエ変換を実行するには、一般的に量子回路が深くなってしまい長時間コヒーレント状態を維持する必要がある。特に測定精度の向上のためにビット数を増やす ($t$ を増やす) と、必要な測定時間は $\\tau = 2^t$ の関係で増える。これは、フーリエ変換の $\\Delta f \\Delta \\tau \\sim 1$ の関係からも直感的に理解できるだろう。そのため誤り訂正機能を備えていないNISQ デバイスでは実現不可能と考えられている。\n",
    "\n",
    "最後の逆フーリエ変換で用いられている制御位相ゲート $\\Lambda (R_l)$ と、制御ビットの測定と測定結果 $m_k$ を用いて位相ゲートをかける操作 ($R^{m}_l$) は可換である事を用いて、必要な補助ビットを削減する方法も存在する。\n",
    "\n",
    "反復的位相推定法 (Iterative Quantum Phase Estimation, IQPE) は固有値を2進展開したビット列を、各桁ごとに決定的に求める方法である。必要な補助ビットは 1つで、1イテレーションごとに1つの桁の値 ($j_k$) を求める。\n",
    "手順は以下の通りである ($k = t, t-1, \\ldots, 1$):\n",
    "\n",
    "#### $k = t$ の時\n",
    "1. 補助ビットに $H$ ゲートをかける\n",
    "$$\n",
    "| u_i \\rangle | 0 \\rangle \\xrightarrow{H} | u_i \\rangle | + \\rangle \n",
    "$$\n",
    "2. 補助ビットに $\\Lambda (U^{2(t-1)})$ をかける\n",
    "$$\n",
    "| u_i \\rangle | + \\rangle \\xrightarrow{\\Lambda (U^{2t})} | u_i \\rangle (| 0 \\rangle + e^{-i \\pi j_t} | 1 \\rangle)\n",
    "$$\n",
    "3. 補助ビットに $H$ ゲートをかけて測定する\n",
    "$$\n",
    "| u_i \\rangle (| 0 \\rangle + e^{-i \\pi j_t} | 1 \\rangle) \\xrightarrow{H} | u_i \\rangle [(1 + e^{-i \\pi j_t})| 0 \\rangle + (1 - e^{-i \\pi j_t}) | 1 \\rangle)] \\xrightarrow{\\textrm{Measure}} | u_i \\rangle | j_t \\rangle\n",
    "$$\n",
    "4. 測定結果 $j_t$ を $\\Phi(t)$ 反映させる: $\\Phi(t) = j_t$\n",
    "\n",
    "#### $k = t-1, t-2, \\ldots, 1$ の時\n",
    "1. 補助ビットに $H$ ゲートをかける\n",
    "$$\n",
    "| u_i \\rangle | 0 \\rangle \\xrightarrow{H} | u_i \\rangle | + \\rangle \n",
    "$$\n",
    "2. 補助ビットに $R_Z (\\pi \\Phi(k+1)/2)$ ($\\Phi(k+1)/2 = 0.j_{k+1} j_{k+2} \\ldots j_{t}$) をかける\n",
    "$$\n",
    "| u_i \\rangle | + \\rangle \\xrightarrow{H} | u_i \\rangle (| 0 \\rangle + e^{+i \\pi 0.j_{k+1} j_{k+2} \\ldots j_{t}} | 1 \\rangle)\n",
    "$$\n",
    "3. 補助ビットに $\\Lambda (U^{2(k-1)})$ をかける\n",
    "$$\n",
    "| u_i \\rangle (| 0 \\rangle + e^{+i \\pi 0.j_{k+1} j_{k+2} \\ldots j_{t}} | 1 \\rangle) \\xrightarrow{\\Lambda (U^{2(k-1)})} | u_i \\rangle (| 0 \\rangle + e^{-i \\pi j_k} | 1 \\rangle)\n",
    "$$\n",
    "4. 補助ビットに $H$ ゲートをかけて測定する\n",
    "$$\n",
    "| u_i \\rangle (| 0 \\rangle + e^{-i \\pi j_k} | 1 \\rangle) \\xrightarrow{H} | u_i \\rangle [(1 + e^{-i \\pi j_k})| 0 \\rangle + (1 - e^{-i \\pi j_k}) | 1 \\rangle)] \\xrightarrow{\\textrm{Measure}} | u_i \\rangle | j_k \\rangle\n",
    "$$\n",
    "5. 測定結果 $j_k$ を $\\Phi(k)$ に反映させる: \n",
    "$$\n",
    "\\Phi(k) = \\Phi(k+1)/2 + j_k = j_k.j_{k+1} j_{k+2} \\ldots j_{t}\n",
    "$$\n",
    "\n",
    "#### $j_k$ ($k = t, t-1, \\ldots, 1$) 測定後\n",
    "$$\n",
    "\\lambda = 2 \\pi \\Phi(1)/2 = \\pi 0.j_1.j_2 \\ldots j_{t}\n",
    "$$\n",
    "\n",
    "このように逐次補助ビットにかける位相調節する事で、必要な補助ビットを1つに抑えることができる。次の節では反復的位相推定法を用いた水素分子の基底エネルギー測定方法を説明する。"
   ]
  },
  {
   "cell_type": "markdown",
   "metadata": {},
   "source": [
    "### 7-2. 実用例： 位相推定を使った分子の基底状態エネルギーの計算"
   ]
  },
  {
   "cell_type": "markdown",
   "metadata": {},
   "source": [
    "この節では \"Scalable Quantum Simulation of Molecular Energies (P. J. J. O’Malley et. al., PHYSICAL REVIEW X 6, 031007 (2016))[1]\" を参考に、位相推定サブルーチンを用いて水素分子の基底状態を求める計算を、実際に量子回路を構成して行う。\n",
    "一般に量子化学計算では認めらる計算誤差が `chemical accuracy`( `$1.6 × 10^{−3}$ hartree`) という精度内に収まることが求められる。\n",
    "ハミルトニアンの固有値問題は、系のハミルトニアン $H$ の時間発展演算子 $U = e^{−iH \\tau}$ の固有値を求めることで固有エネルギー $E_n$ を求める事で解くことができる。\n",
    "$|n \\rangle$ をハミルトニアンの固有状態、それに対応する固有値を $E_n$ 、参照状態を $|\\phi \\rangle = \\sum_n c_n |n \\rangle$ とすると、\n",
    "$$\n",
    "e^{−iH \\tau} |\\phi \\rangle = \\sum_n e^{−i E_n \\tau} c_n |n \\rangle \n",
    "$$\n",
    "\n",
    "この状態を補助ビットとエンタングルさせ、補助ビットの $|0 \\rangle$ と $|1 \\rangle$ 間の位相を測定する。\n",
    "$$\n",
    "e^{−iH \\tau} |\\phi \\rangle |+^{\\otimes t} \\rangle \\to \\sum_n e^{−i E_n \\tau} c_n |n \\rangle |\\tilde{E_n} \\rangle\n",
    "$$\n",
    "測定が行われると、状態が $|c_n|^2 = |\\langle n |\\phi \\rangle|^2$ の確率で $|n \\rangle $ に収縮するため、$1/2 < |c_n|^2 \\leq 1$ の時は多数決法によって固有値 $E_n$ を求めることができる。\n",
    "\n",
    "\n",
    "基底エネルギー計算に必要なステップは以下の通りである:\n",
    "1. ハミルトニアンのサイズを対称性などを用いて削減する\n",
    "2. ハミルトニアンの時間発展演算子を精度よく近似する ($U^{2k}$ に相当)\n",
    "3. 制御ユニタリ演算 ($\\Lambda (U^{2k})$) を実機で操作可能なゲートセットに分解し実装する\n",
    "4. 基底状態と十分重なりのある状態を準備する\n",
    "5. 反復的位相推定法で位相を測定する\n",
    "\n",
    "以下順を追って手法の詳細な説明と実装例を示す。"
   ]
  },
  {
   "cell_type": "markdown",
   "metadata": {},
   "source": [
    "#### 7-2-1. ハミルトニアンのサイズを対称性などを用いて削減する\n",
    "水素分子の第二量子化されたハミルトニアン (STO-6G 基底) を Bravyi-Kitaev 変換した後、電子数保存などの対称性を用いて系の次元を削減すると、電子状態は 2量子ビットで表される (詳しくは文献 [1] を参照されたい)。\n",
    "$$\n",
    "H = \\sum_i g_i H_i = g_0 I + g_1 Z_0 + g_2 Z_1 + g_3 Z_0 Z_1 + g_4 Y_0 Y_1 + g_5 X_0 X_1\n",
    "$$\n",
    "係数 $g_i$ は実数で値は原子間距離に依存する。\n",
    "\n",
    "#### 7-2-2. ハミルトニアンの時間発展演算子を精度よく近似する\n",
    "制御ユニタリ演算を行うため、時間発展演算子 $e^{−iH \\tau}$ を $\\exp(i \\theta P)$ の積の形に近似する。ただしここで $P$ はパウリ行列の積である。\n",
    "`Baker-Campbell-Hausdorff 関係式` を用いるとハミルトニアンの各項 $H_i$ と交換する項 ($I$ と $Z_0 Z_1$) は\n",
    "$$\n",
    "e^{−iH \\tau} = \\exp[−i \\tau \\sum_i g_i H_i] = \\exp[−i \\tau g_0 I] \\exp[−i \\tau g_3 Z_0 Z_1] \\exp[−i \\tau H_{\\textrm{eff}}]\n",
    "$$\n",
    "と積の形で書ける。ただし、\n",
    "$$\n",
    "H_{\\textrm{eff}} = g_1 Z_0 + g_2 Z_1 + g_4 Y_0 Y_1 + g_5 X_0 X_1\n",
    "$$\n",
    "必要なゲートを削減させるため、これらの項を $e^{−iH \\tau}$ から除き演算子を簡単化する。これらの固有値への寄与は後から加算する。\n",
    "\n",
    "上式を Trotter-Suzuki 展開すると、\n",
    "$$\n",
    "e^{−iH \\tau} = \\exp[−i \\tau \\sum_i g_i H_i] \\approx U_{Torrot} (\\tau) = \\left( \\prod_i \\exp[-i g_i H_i \\tau/n] \\right)^n\n",
    "$$\n",
    "が得られる。この近似ではエラーが $n$ に線形で依存することが知られている。\n",
    "\n",
    "今回取り扱う系は $4 \\times 4$ の行列で表されるので、参考の為に古典対角化して正確な基底エネルギーを求めてみる。"
   ]
  },
  {
   "cell_type": "code",
   "execution_count": 2,
   "metadata": {},
   "outputs": [
    {
     "data": {
      "text/html": [
       "\n",
       "    <script>\n",
       "        if (!window.MathJax) {\n",
       "            window.MathJax = {\n",
       "                'tex2jax': {\n",
       "                    'inlineMath': [['$', '$'], ['\\(', '\\)']],\n",
       "                    'displayMath': [['$$', '$$'], ['\\[', '\\]']],\n",
       "                    'processEscapes': true,\n",
       "                    'processEnvironments': true,\n",
       "                    'skipTags': ['script', 'noscript', 'style', 'textarea', 'code'],\n",
       "                    'displayAlign': 'center',\n",
       "                },\n",
       "                'HTML-CSS': {\n",
       "                    'styles': {'.MathJax_Display': {'margin': 0}},\n",
       "                    'linebreaks': {'automatic': true},\n",
       "                    // Disable to prevent OTF font loading, which aren't part of our\n",
       "                    // distribution.\n",
       "                    'imageFont': null,\n",
       "                },\n",
       "               'messageStyle': 'none'\n",
       "            };\n",
       "            var script = document.createElement(\"script\");\n",
       "            script.src = \"https://colab.research.google.com/static/mathjax/MathJax.js?config=TeX-AMS_HTML-full,Safe\";\n",
       "            document.head.appendChild(script);\n",
       "        }\n",
       "    </script>\n",
       "    "
      ],
      "text/plain": [
       "<IPython.core.display.HTML object>"
      ]
     },
     "metadata": {},
     "output_type": "display_data"
    }
   ],
   "source": [
    "from functools import reduce\n",
    "import numpy as np\n",
    "from numpy.linalg import matrix_power, eig\n",
    "from scipy.sparse.linalg import eigsh\n",
    "from openfermion.ops import QubitOperator\n",
    "from openfermion.transforms import get_sparse_operator\n",
    "from qulacs import QuantumState, Observable, QuantumCircuit"
   ]
  },
  {
   "cell_type": "code",
   "execution_count": 1,
   "metadata": {},
   "outputs": [],
   "source": [
    "# Google Colaboratory上でのみ実行してください\n",
    "from IPython.display import HTML\n",
    "def setup_mathjax():\n",
    "    display(HTML('''\n",
    "    <script>\n",
    "        if (!window.MathJax) {\n",
    "            window.MathJax = {\n",
    "                'tex2jax': {\n",
    "                    'inlineMath': [['$', '$'], ['\\\\(', '\\\\)']],\n",
    "                    'displayMath': [['$$', '$$'], ['\\\\[', '\\\\]']],\n",
    "                    'processEscapes': true,\n",
    "                    'processEnvironments': true,\n",
    "                    'skipTags': ['script', 'noscript', 'style', 'textarea', 'code'],\n",
    "                    'displayAlign': 'center',\n",
    "                },\n",
    "                'HTML-CSS': {\n",
    "                    'styles': {'.MathJax_Display': {'margin': 0}},\n",
    "                    'linebreaks': {'automatic': true},\n",
    "                    // Disable to prevent OTF font loading, which aren't part of our\n",
    "                    // distribution.\n",
    "                    'imageFont': null,\n",
    "                },\n",
    "               'messageStyle': 'none'\n",
    "            };\n",
    "            var script = document.createElement(\"script\");\n",
    "            script.src = \"https://colab.research.google.com/static/mathjax/MathJax.js?config=TeX-AMS_HTML-full,Safe\";\n",
    "            document.head.appendChild(script);\n",
    "        }\n",
    "    </script>\n",
    "    '''))\n",
    "get_ipython().events.register('pre_run_cell', setup_mathjax)"
   ]
  },
  {
   "cell_type": "code",
   "execution_count": 3,
   "metadata": {},
   "outputs": [
    {
     "data": {
      "text/html": [
       "\n",
       "    <script>\n",
       "        if (!window.MathJax) {\n",
       "            window.MathJax = {\n",
       "                'tex2jax': {\n",
       "                    'inlineMath': [['$', '$'], ['\\(', '\\)']],\n",
       "                    'displayMath': [['$$', '$$'], ['\\[', '\\]']],\n",
       "                    'processEscapes': true,\n",
       "                    'processEnvironments': true,\n",
       "                    'skipTags': ['script', 'noscript', 'style', 'textarea', 'code'],\n",
       "                    'displayAlign': 'center',\n",
       "                },\n",
       "                'HTML-CSS': {\n",
       "                    'styles': {'.MathJax_Display': {'margin': 0}},\n",
       "                    'linebreaks': {'automatic': true},\n",
       "                    // Disable to prevent OTF font loading, which aren't part of our\n",
       "                    // distribution.\n",
       "                    'imageFont': null,\n",
       "                },\n",
       "               'messageStyle': 'none'\n",
       "            };\n",
       "            var script = document.createElement(\"script\");\n",
       "            script.src = \"https://colab.research.google.com/static/mathjax/MathJax.js?config=TeX-AMS_HTML-full,Safe\";\n",
       "            document.head.appendChild(script);\n",
       "        }\n",
       "    </script>\n",
       "    "
      ],
      "text/plain": [
       "<IPython.core.display.HTML object>"
      ]
     },
     "metadata": {},
     "output_type": "display_data"
    }
   ],
   "source": [
    "def reduced_term_hamiltonian():\n",
    "    \"\"\"\n",
    "    distance = 0.70 A\n",
    "    removed 'I' and 'Z0 Z1' terms, which add up to -1.31916027\n",
    "    \"\"\"\n",
    "    n_qubits = 2\n",
    "    g_list = [0.3593, 0.0896, -0.4826, 0.0896]\n",
    "    pauli_strings = ['Z0', 'Y0 Y1', 'Z1', 'X0 X1']\n",
    "    hamiltonian = QubitOperator()\n",
    "    for g, h in zip(g_list, pauli_strings):\n",
    "        hamiltonian += g * QubitOperator(h)\n",
    "    sparse_matrix = get_sparse_operator(hamiltonian, n_qubits=n_qubits)\n",
    "    vals, vecs = eigsh(sparse_matrix, k=1, which='SA')\n",
    "    return sparse_matrix, vals"
   ]
  },
  {
   "cell_type": "code",
   "execution_count": 6,
   "metadata": {
    "scrolled": true
   },
   "outputs": [
    {
     "name": "stdout",
     "output_type": "stream",
     "text": [
      "exact_eigenvalue: -0.860760274408617 Ha\n"
     ]
    }
   ],
   "source": [
    "_, eigs = reduced_term_hamiltonian()\n",
    "exact_eigenvalue = eigs[0]\n",
    "print('exact_eigenvalue: {} Ha'.format(exact_eigenvalue))"
   ]
  },
  {
   "cell_type": "markdown",
   "metadata": {},
   "source": [
    "位相推定によるエネルギー測定の精度は、時間発展演算子の近似精度に大きく依存する。水素分子の例では何次の Trotter-Suzuki 展開を行えば十分であろうか？以下では、$H_i^2 = I$ の時\n",
    "$$\n",
    "\\left( \\prod_i \\exp[-i g_i H_i \\tau/n] \\right)^n = \\left( \\prod_i \\cos(g_i\\tau/n) I -i \\sin(g_i\\tau/n) H_i \\right)^n\n",
    "$$\n",
    "となる性質を用いて $n = 1, 3, \\ldots, 9$ において Trotter-Suzuki 展開がどのくらいの精度で演算子を近似できるかを計算するコードを実装した。"
   ]
  },
  {
   "cell_type": "code",
   "execution_count": 4,
   "metadata": {},
   "outputs": [],
   "source": [
    "def order_n_trotter_suzuki_approx(t, n_trotter_steps):\n",
    "    \"\"\"\n",
    "    ordering: 'Z0', 'Y0 Y1', 'Z1', 'X0 X1'\n",
    "    Returns:\n",
    "        sparse_matrix: trotterized [exp(iHt/n)]^n\n",
    "        args: list of phases of each eigenvalue, exp(i*phase)\n",
    "    \"\"\"\n",
    "    n_qubits = 2\n",
    "    g_list = [0.3593, 0.0896, -0.4826, 0.0896]\n",
    "    pauli_strings = ['Z0', 'Y0 Y1', 'Z1', 'X0 X1']\n",
    "    terms = []\n",
    "    for g, h in zip(g_list, pauli_strings):\n",
    "        arg = g * t / n_trotter_steps\n",
    "        qop = complex(np.cos(arg), 0) * QubitOperator('') - complex(0, np.sin(arg)) * QubitOperator(h)\n",
    "        terms += [get_sparse_operator(qop, n_qubits=n_qubits)]\n",
    "    sparse_matrix = reduce(np.dot, terms)\n",
    "    matrix = matrix_power(sparse_matrix.toarray(), n_trotter_steps)\n",
    "    vals, vecs = eig(matrix)\n",
    "    args = np.angle(vals)\n",
    "    return sparse_matrix, sorted(args)"
   ]
  },
  {
   "cell_type": "code",
   "execution_count": 8,
   "metadata": {
    "scrolled": true
   },
   "outputs": [
    {
     "name": "stdout",
     "output_type": "stream",
     "text": [
      "n, e_trotter, |exact_eigenvalue-e_trotter|\n",
      "1 -0.8602760325707504 0.0004842418378666613\n",
      "3 -0.860706856078986 5.341832963101645e-05\n",
      "5 -0.8607410547561056 1.9219652511393015e-05\n",
      "7 -0.8607504699997903 9.804408826696864e-06\n",
      "9 -0.8607543437287754 5.930679841670283e-06\n"
     ]
    }
   ],
   "source": [
    "t = 0.640\n",
    "print('n, e_trotter, |exact_eigenvalue-e_trotter|')\n",
    "for n in range(1, 10, 2):\n",
    "    _, phases = order_n_trotter_suzuki_approx(t, n)\n",
    "    e_trotter = phases[0]/t\n",
    "    print(n, e_trotter, abs(exact_eigenvalue-e_trotter)) "
   ]
  },
  {
   "cell_type": "markdown",
   "metadata": {},
   "source": [
    "お分かり頂けただろうか？ 次数 $n$ が増えるごとに近似精度が上がっている。今回の場合では chemical accuracy( $1.6 × 10^{−3}$ Ha) の精度で近似するには $n = 1$ で十分であることが分かる。"
   ]
  },
  {
   "cell_type": "markdown",
   "metadata": {},
   "source": [
    "#### 7-2-3. 制御ユニタリ演算を実機で操作可能なゲートセットに分解し実装する\n",
    "量子コンピュータデバイス上で時間発展演算子 ($\\Lambda(U_{Torrot} (2^k t))$) を準備するためには、量子ゲートに分解する必要がある。\n",
    "今回の例で必要な制御ユニタリゲートは \n",
    "* $\\Lambda(R_Z(\\theta))$\n",
    "* $\\Lambda(R_{XX}(\\theta))$\n",
    "* $\\Lambda(R_{YY}(\\theta))$ \n",
    "\n",
    "である。これらのゲートは全て $\\Lambda(R_Z(\\theta))$ を用いれば実現可能なので、$\\Lambda(R_Z(\\theta))$ の実装について詳細に解説する。\n",
    "\n",
    "先ず $\\Lambda(R_Z(\\theta))$ は 制御ビット $| c \\rangle$ と標的ビット $| t \\rangle$ にかかると、\n",
    "$$\n",
    "\\Lambda(R_Z(\\theta)) | c \\rangle | t \\rangle = | c \\rangle R^c_Z(\\theta) | t \\rangle\n",
    "$$\n",
    "を満たすゲートである。\n",
    "これは $\\textrm{CNOT} | c \\rangle | t \\rangle = | c \\rangle X^c | t \\rangle$、 $XZX = -Z$ の性質を利用して、\n",
    "$$\n",
    "\\textrm{CNOT} \\left(I \\otimes R_Z(-\\theta/2) \\right) \\textrm{CNOT} \\left(I \\otimes R_Z(\\theta/2) \\right) | c \\rangle | t \\rangle\n",
    "= | c \\rangle　X^c　R_Z(-\\theta/2) X^c R_Z(\\theta/2) | t \\rangle\n",
    "= | c \\rangle R^c_Z(\\theta) | t \\rangle\n",
    "$$\n",
    "となり、$\\Lambda(R_Z(\\theta))$ を実現している。\n",
    "また、これと\n",
    "$$\n",
    "\\textrm{CNOT} \\left(I \\otimes Z_2 \\right) \\textrm{CNOT} = Z_1 \\otimes Z_2\n",
    "$$\n",
    "の性質を用いると、$\\Lambda(R_{ZZ}(\\theta))$ が実現できる。\n",
    "さらに、$H Z H = X$　や $SH Z HS^{\\dagger} = Y$ を用いると $\\Lambda(R_{XX}(\\theta))$、$\\Lambda(R_{YY}(\\theta))$ がそれぞれ実現できる。\n",
    "\n",
    "以下のコードでは `Qulacs` で $\\Lambda(U_{Torrot} (2^k t))$ の量子回路を実装している。\n",
    "補助ビットに $H$ や $R_Z(\\Phi)$ をかけているのは位相推定の為である。"
   ]
  },
  {
   "cell_type": "code",
   "execution_count": 5,
   "metadata": {},
   "outputs": [
    {
     "data": {
      "text/html": [
       "\n",
       "    <script>\n",
       "        if (!window.MathJax) {\n",
       "            window.MathJax = {\n",
       "                'tex2jax': {\n",
       "                    'inlineMath': [['$', '$'], ['\\(', '\\)']],\n",
       "                    'displayMath': [['$$', '$$'], ['\\[', '\\]']],\n",
       "                    'processEscapes': true,\n",
       "                    'processEnvironments': true,\n",
       "                    'skipTags': ['script', 'noscript', 'style', 'textarea', 'code'],\n",
       "                    'displayAlign': 'center',\n",
       "                },\n",
       "                'HTML-CSS': {\n",
       "                    'styles': {'.MathJax_Display': {'margin': 0}},\n",
       "                    'linebreaks': {'automatic': true},\n",
       "                    // Disable to prevent OTF font loading, which aren't part of our\n",
       "                    // distribution.\n",
       "                    'imageFont': null,\n",
       "                },\n",
       "               'messageStyle': 'none'\n",
       "            };\n",
       "            var script = document.createElement(\"script\");\n",
       "            script.src = \"https://colab.research.google.com/static/mathjax/MathJax.js?config=TeX-AMS_HTML-full,Safe\";\n",
       "            document.head.appendChild(script);\n",
       "        }\n",
       "    </script>\n",
       "    "
      ],
      "text/plain": [
       "<IPython.core.display.HTML object>"
      ]
     },
     "metadata": {},
     "output_type": "display_data"
    }
   ],
   "source": [
    "def time_evolution_circuit_exp(g_list, t, kickback_phase, k, n_trotter_step=1):\n",
    "    n_qubits = 3\n",
    "    a_idx = 2\n",
    "    phi = -(t / n_trotter_step) * g_list\n",
    "    circuit = QuantumCircuit(n_qubits)\n",
    "    circuit.add_H_gate(a_idx)\n",
    "    # Apply kickback phase rotation to ancilla bit\n",
    "    circuit.add_RZ_gate(a_idx, -np.pi*kickback_phase/2)\n",
    "    for _ in range(n_trotter_step):\n",
    "        for _ in range(2 ** k):\n",
    "            # CU(Z0)\n",
    "            circuit.add_RZ_gate(0, -phi[0])\n",
    "            circuit.add_CNOT_gate(a_idx, 0)\n",
    "            circuit.add_RZ_gate(0, phi[0])\n",
    "            circuit.add_CNOT_gate(a_idx, 0)\n",
    "        \n",
    "            # CU(Y0 Y1)\n",
    "            circuit.add_S_gate(0)\n",
    "            circuit.add_S_gate(1)\n",
    "            circuit.add_H_gate(0)\n",
    "            circuit.add_H_gate(1)\n",
    "            circuit.add_CNOT_gate(1, 0)\n",
    "            circuit.add_RZ_gate(0, -phi[1])\n",
    "            circuit.add_CNOT_gate(a_idx, 0)\n",
    "            circuit.add_RZ_gate(0, phi[1])\n",
    "            circuit.add_CNOT_gate(a_idx, 0)\n",
    "            circuit.add_CNOT_gate(1, 0)                \n",
    "            circuit.add_H_gate(0)\n",
    "            circuit.add_H_gate(1)\n",
    "            circuit.add_Sdag_gate(0)\n",
    "            circuit.add_Sdag_gate(1)\n",
    "        \n",
    "            # CU(Z1)\n",
    "            circuit.add_RZ_gate(1, -phi[2])\n",
    "            circuit.add_CNOT_gate(a_idx, 1)\n",
    "            circuit.add_RZ_gate(1, phi[2])\n",
    "            circuit.add_CNOT_gate(a_idx, 1)\n",
    "        \n",
    "            # CU(X0 X1)\n",
    "            circuit.add_H_gate(0)\n",
    "            circuit.add_H_gate(1)\n",
    "            circuit.add_CNOT_gate(1, 0)\n",
    "            circuit.add_RZ_gate(0, -phi[3])\n",
    "            circuit.add_CNOT_gate(a_idx, 0)\n",
    "            circuit.add_RZ_gate(0, phi[3])\n",
    "            circuit.add_CNOT_gate(a_idx, 0)\n",
    "            circuit.add_CNOT_gate(1, 0)     \n",
    "            circuit.add_H_gate(0)\n",
    "            circuit.add_H_gate(1)\n",
    "        \n",
    "    circuit.add_H_gate(a_idx)\n",
    "    return circuit"
   ]
  },
  {
   "cell_type": "markdown",
   "metadata": {},
   "source": [
    "#### 7-2-4. 基底状態と十分重なりのある状態を準備する\n",
    "今回の水素分子の基底エネルギーの場合では Hartree-Fock (HF) 状態 $|\\phi \\rangle = |01 \\rangle $ が十分基底固有状態に近い為、これを参照状態とする。\n",
    "\n",
    "#### 7-2-5. 反復的位相推定法で位相を測定する\n",
    "位相推定アルゴリズムについては既に説明があるのでここでは割愛する。\n",
    "`Qulacs` では補助ビットなど特定の量子ビットのみを測定しその結果を用いる際に、`state.get_marginal_probability(bit_list)` が便利である。これは量子状態 `state` の特定の量子ビットが特定のビット値を持っている確率を、波動関数の振幅から計算する関数である。\n",
    "例えば以下のコードでは、補助ビット (`index=2`) が `0` 状態 (0、1番目の量子ビットに関しては測定しない) の確率は、`get_marginal_probability([2, 2, 0])` で得られる (`2` は測定しない事を表している)。"
   ]
  },
  {
   "cell_type": "code",
   "execution_count": 6,
   "metadata": {
    "scrolled": true
   },
   "outputs": [
    {
     "data": {
      "text/html": [
       "\n",
       "    <script>\n",
       "        if (!window.MathJax) {\n",
       "            window.MathJax = {\n",
       "                'tex2jax': {\n",
       "                    'inlineMath': [['$', '$'], ['\\(', '\\)']],\n",
       "                    'displayMath': [['$$', '$$'], ['\\[', '\\]']],\n",
       "                    'processEscapes': true,\n",
       "                    'processEnvironments': true,\n",
       "                    'skipTags': ['script', 'noscript', 'style', 'textarea', 'code'],\n",
       "                    'displayAlign': 'center',\n",
       "                },\n",
       "                'HTML-CSS': {\n",
       "                    'styles': {'.MathJax_Display': {'margin': 0}},\n",
       "                    'linebreaks': {'automatic': true},\n",
       "                    // Disable to prevent OTF font loading, which aren't part of our\n",
       "                    // distribution.\n",
       "                    'imageFont': null,\n",
       "                },\n",
       "               'messageStyle': 'none'\n",
       "            };\n",
       "            var script = document.createElement(\"script\");\n",
       "            script.src = \"https://colab.research.google.com/static/mathjax/MathJax.js?config=TeX-AMS_HTML-full,Safe\";\n",
       "            document.head.appendChild(script);\n",
       "        }\n",
       "    </script>\n",
       "    "
      ],
      "text/plain": [
       "<IPython.core.display.HTML object>"
      ]
     },
     "metadata": {},
     "output_type": "display_data"
    }
   ],
   "source": [
    "def iterative_phase_estimation(g_list, t, n_itter, init_state, n_trotter_step=1, kickback_phase=0.0):\n",
    "    for k in reversed(range(1, n_itter)):\n",
    "        psi = init_state.copy()\n",
    "        phi = kickback_phase/2\n",
    "        g_k_list = np.array(g_list)\n",
    "        circuit = time_evolution_circuit_exp(g_k_list, t, kickback_phase, k, n_trotter_step=n_trotter_step)\n",
    "        circuit.update_quantum_state(psi)\n",
    "        # partial trace\n",
    "        p0 = psi.get_marginal_probability([2, 2, 0])\n",
    "        p1 = psi.get_marginal_probability([2, 2, 1])\n",
    "        # update kickback phase\n",
    "        kth_digit = 1 if (p0 < p1) else 0\n",
    "        kickback_phase = kickback_phase/2 + kth_digit\n",
    "    return -0.5 * np.pi * kickback_phase"
   ]
  },
  {
   "cell_type": "markdown",
   "metadata": {},
   "source": [
    "反復的位相推定法で固有エネルギーを測定するコードは全て揃ったので、実際にシミュレーションを実行してみよう。\n",
    "ここで、位相を何桁まで測定すれば良いか ($0.j_1 \\ldots j_t$ の $t$ をどこまで大きくとるべきか) という疑問がある。\n",
    "一般に、chemical accuracy($1.6 \\times 10^{-3}$ Ha) の精度が必要な場合、イテレーションの回数は[2]\n",
    "$$\n",
    "t = - \\log_2 (1.6 \\times 10^{-3}) + \\log_2 \\left(2 + \\frac{1}{2 \\epsilon} \\right) \\approx 10.87\n",
    "$$\n",
    "つまり $n = 11$ 程でとれば十分である事が分かる。"
   ]
  },
  {
   "cell_type": "code",
   "execution_count": 13,
   "metadata": {
    "scrolled": false
   },
   "outputs": [
    {
     "data": {
      "text/html": [
       "\n",
       "    <script>\n",
       "        if (!window.MathJax) {\n",
       "            window.MathJax = {\n",
       "                'tex2jax': {\n",
       "                    'inlineMath': [['$', '$'], ['\\(', '\\)']],\n",
       "                    'displayMath': [['$$', '$$'], ['\\[', '\\]']],\n",
       "                    'processEscapes': true,\n",
       "                    'processEnvironments': true,\n",
       "                    'skipTags': ['script', 'noscript', 'style', 'textarea', 'code'],\n",
       "                    'displayAlign': 'center',\n",
       "                },\n",
       "                'HTML-CSS': {\n",
       "                    'styles': {'.MathJax_Display': {'margin': 0}},\n",
       "                    'linebreaks': {'automatic': true},\n",
       "                    // Disable to prevent OTF font loading, which aren't part of our\n",
       "                    // distribution.\n",
       "                    'imageFont': null,\n",
       "                },\n",
       "               'messageStyle': 'none'\n",
       "            };\n",
       "            var script = document.createElement(\"script\");\n",
       "            script.src = \"https://colab.research.google.com/static/mathjax/MathJax.js?config=TeX-AMS_HTML-full,Safe\";\n",
       "            document.head.appendChild(script);\n",
       "        }\n",
       "    </script>\n",
       "    "
      ],
      "text/plain": [
       "<IPython.core.display.HTML object>"
      ]
     },
     "metadata": {},
     "output_type": "display_data"
    },
    {
     "name": "stdout",
     "output_type": "stream",
     "text": [
      "e_iqpe = -0.8604673482046018 Ha, |e_iqpe-e_trotter| = 0.00019131563385144101 Ha\n"
     ]
    }
   ],
   "source": [
    "n_qubits = 3 # 2 for electron configurations and 1 for ancilla\n",
    "g_list = [0.3593, 0.0896, -0.4826, 0.0896]\n",
    "# pauli_strings = ['Z 0', 'Y 0 Y 1', 'Z 1', 'X 0 X 1']\n",
    "hf_state = QuantumState(n_qubits)\n",
    "hf_state.set_computational_basis(0b001) # |0>|01>\n",
    "t = 0.640\n",
    "n_itter = 12 # determines precission\n",
    "iqpe_phase = iterative_phase_estimation(g_list, t, n_itter, hf_state, n_trotter_step=1, kickback_phase=0.0)\n",
    "e_iqpe = iqpe_phase/t\n",
    "e_trotter = -0.8602760325707504\n",
    "print('e_iqpe = {} Ha, |e_iqpe-e_trotter| = {} Ha'.format(e_iqpe, abs(e_iqpe-e_trotter)))"
   ]
  },
  {
   "cell_type": "markdown",
   "metadata": {},
   "source": [
    "お分かり頂けただろうか？ 実際には `n_itter = 12` でようやく chemical accuracy に到達した。\n",
    "\n",
    "ここで1点注意が必要なのは、ここで紹介したサンプルコードでは $\\Lambda(U_{\\textrm{trott}}(2^k \\tau))$ の深さが $t$ に関して指数的に増大してしまうという事である。このハミルトニアンシミュレーションを多項式個のゲートで実現させるための研究もなされている。興味を持たれた読者は参考文献[3][4][5]を参照されたい。"
   ]
  },
  {
   "cell_type": "markdown",
   "metadata": {},
   "source": [
    "### 参考文献\n",
    "[1] Scalable Quantum Simulation of Molecular Energies,\n",
    "P. J. J. O’Malley et. al.,\n",
    "PHYSICAL REVIEW X 6, 031007 (2016) <br>\n",
    "[2] Quantum Computation and Quantum Information,\n",
    "M. Nielsen and I. Chuang <br>\n",
    "[3] Efficient quantum algorithms for simulating sparse Hamiltonians, \n",
    "D. W. Berry, G. Ahokas, R. Cleve, B. C. Sanders, \n",
    "Communications in Mathematical Physics 270, 359 (2007) <br>\n",
    "[4] Black-box Hamiltonian simulation and unitary implementation, \n",
    "D. W. Berry,  A. M. Childs, \n",
    "Quantum Information and Computation 12, 29 (2012) <br>\n",
    "[5] Simulating Hamiltonian dynamics with a truncated Taylor series, \n",
    "D. W. Berry, A. M. Childs, R. Cleve, R. Kothari, R. D. Somma, \n",
    "Phys. Rev. Lett. 114, 090502 (2015) <br>"
   ]
  },
  {
   "cell_type": "markdown",
   "metadata": {},
   "source": [
    "### 7-3. 実践例： 位相推定を使った線形代数計算"
   ]
  },
  {
   "cell_type": "markdown",
   "metadata": {},
   "source": [
    "### 1. Quantum random access memory (qRAM) とは\n",
    "量子コンピュータ上で古典データを扱う際は、そのデータを量子状態としてエンコードする必要がある。とくにバイナリデータの集まり（ベクトル）を量子状態として効率的に読み出すことは、量子機械学習などの応用において極めて重要である。本節ではqRAM (quantum random acccess memory)について解説する。\n",
    "\n",
    "古典コンピュータにおけるRAM (random access memory)とは、メモリアドレスと対応するデータをセットとして格納し、引き出せるようにする装置である。すなわち、RAMにメモリアドレス$i$を与えると、バイナリデータ$x_i$ を引き出すことができる。\n",
    "\n",
    "$$ i \\quad \\to \\quad x_i $$\n",
    "\n",
    "同様に、qRAMはメモリアドレスに対応する量子状態 $|i \\rangle$ から、対応するデータをエンコードした量子状態 $|x_i \\rangle$（以下、データ状態とよぶ）を引き出せるようにする装置である。\n",
    "\n",
    "$$|i \\rangle \\quad \\to \\quad |i \\rangle \\otimes |x_i \\rangle$$\n",
    "\n",
    "とくに、メモリアドレスとデータを重ね合わせ状態として引き出せるということは、qRAMのもつべき重要な性質である。すなわちメモリアドレス状態の重ね合わせに対して、qRAMはアドレスとデータのエンタングル状態を与える。\n",
    "$$ \\sum_{i=1}^N  |i \\rangle \\quad \\to \\quad \\sum_{i=1}^N |i \\rangle \\otimes |x_i \\rangle $$\n",
    "\n",
    "ここで$N$はデータの件数である。\n",
    "\n",
    "qRAMは必ずしも量子状態そのものを保持する必要がないということに注意されたい。すなわちバイナリデータのベクトルが与えられたとき、効率的に重ね合わせ状態を生成する量子回路の記述が与えられれば、qRAMとしての役割を果たす。qRAMの仕組みを実現するアーキテクチャにはとくに決まったものはなく、現在も研究途上である。\n",
    "\n",
    "`Quantum Random Access Memory (QRAM)` とは、あるバイナリデータ $x_i$ のアドレス $i$ を記述する量子ビット列 $| i \\rangle $ が与えられたとき、そのデータ $x_i$ を量子ビット列 $| x_i \\rangle$ として取り出す機能のことである。\n",
    "具体的には、次のような機能が QRAM と呼ばれることが多いようだ。\n",
    "$$ | i \\rangle | 0 \\rangle \\xrightarrow{QRAM} | i \\rangle | x_i \\rangle $$\n",
    "通常 QRAM はユニタリーなプロセスとして実現することが仮定される。したがって、QRAMの存在を仮定するとき、以下のように重ね合わせ状態を入力すれば、同時並列的にデータを量子状態にエンコードすることが可能である。\n",
    "$$ \\frac{1}{\\sqrt{N}}\\sum_{i=1}^N | i \\rangle | 0 \\rangle \\xrightarrow{QRAM} \\frac{1}{\\sqrt{N}}\\sum_i | i \\rangle | x_i \\rangle $$\n",
    "現実にこれが可能であるかどうかはまだわからない。具体的な実装方法としては \n",
    "V. Giovannetti, S. Lloyd, L. Maccone, Phys. Rev. A 78, 052310 (2008) \n",
    "10.1103/PhysRevA.78.052310\n",
    "などで提案がある。\n",
    "\n",
    "\n",
    "## 振幅エンコーディング\n",
    "HHLアルゴリズムおよびそれをベースとする機械学習アルゴリズムでは、qRAM上のデータを状態としてではなく、振幅として利用したい場合がある。そのためには、qRAMから読み出したデータに対して次のような変換を行いたい。\n",
    "\n",
    "$$ \\sum_{i=1}^N |i \\rangle \\otimes |x_i \\rangle \\quad \\to \\quad \\frac{1}{||{\\\\bf x}||} \\sum_{i=1}^N x_i |i \\rangle $$\n",
    "\n",
    "ここで $||{\\\\bf x}||$ はベクトル $x_i$ のノルムである。この変換をユニタリ変換として実現する方法はPrakashの博士論文において提案された[1]。具体的な実現方法の解説は[2,3]に詳しい。\n",
    "\n",
    "### 参考文献\n",
    "[1] Anupam Prakash. \\\"Quantum Algorithms for Linear Algebra and Machine Learning\\\". PhD thesis, EECS Department, University of California, Berkeley, Dec 2014. <br>\n",
    "[2] 京大基研量子情報スクール用ノート, https://www2.yukawa.kyoto-u.ac.jp/~qischool2019/mitaraiCTO.pdf <br>\n",
    "[3] Danial Dervovic, et al., Quantum linear systems algorithms: a primer, eprint: https://arxiv.org/abs/1802.08227"
   ]
  },
  {
   "cell_type": "markdown",
   "metadata": {},
   "source": [
    "### 4. HHLアルゴリズム\n",
    "Harrow-Hassidim-Lloyd による逆行列計算アルゴリズム (HHL アルゴリズム) は、$N\\times N$ の疎 (sparse) 行列 $A$、$N$ 次元のベクトル $\\bf{v}$ について、\n",
    "$$\n",
    "|\\bf{v} \\rangle \\xrightarrow{\\text{HHL}} | A^{-1}\\bf{v} \\rangle\n",
    "$$\n",
    "という変換を効率良く計算するアルゴリズムである。その計算量は、現在知られているベストのもので、\n",
    "$O(s\\kappa \\textrm{poly} \\log (s\\kappa/\\epsilon))$ \n",
    "である($s$ は $A$ の sparsity、 $\\kappa$ は $A$ の条件数、$\\epsilon$ は出力状態の $| A^{-1}\\bf{v} \\rangle$ からの誤差)。\n",
    "\n",
    "古典アルゴリズムでベストの共役勾配法では行列の逆変換実行時間は\n",
    "$O(Ns\\kappa \\log(1/\\epsilon))$ \n",
    "なので、行列のスパース性 ($s=O(\\textrm{poly} \\log N)$) を仮定すれば、HHL アルゴリズムは行列の次元 $N$ について指数加速を実現している。\n",
    "\n",
    "オリジナルバージョンの HHL アルゴリズムは大まかに以下のようなものである。$A$ の固有値を $0<\\lambda_i<1$、規格化された固有ベクトルを $\\bf{a}_i$ とするとき、\n",
    "1. 状態 $|\\bf{v} \\rangle$ を qRAM などを駆使して用意する。\n",
    "2. 制御ユニタリー演算 $\\Lambda(e^{2\\pi i A})$ を使った位相推定によって \n",
    "$\\sum_i \\langle \\bf{v}|\\bf{a}_i \\rangle |\\bf{a}_i \\rangle |\\lambda_i \\rangle$ \n",
    "をつくる。\n",
    "3. 振幅エンコーディング (TODO:) と同様のアルゴリズムによって、補助ビットに制御回転ゲート $\\Lambda(R(\\theta))$ をかけ \n",
    "$$\n",
    "\\sum_i \\langle \\bf{v}|\\bf{a}_i \\rangle |\\bf{a}_i \\rangle |\\lambda_i \\rangle \\left(\\frac{1}{\\lambda_i} | 0 \\rangle + \\sqrt{1-\\frac{1}{\\lambda_i^2}}| 1 \\rangle \\right)\n",
    "$$\n",
    "を得る。\n",
    "4. 補助ビットを測定して $| 0 \\rangle$ が観測されれば、$\\frac{1}{\\|A^{-1}\\bf{v}\\|}| A^{-1}\\bf{v} \\rangle$ を得る。"
   ]
  },
  {
   "cell_type": "markdown",
   "metadata": {},
   "source": [
    "### コラム：低ランクに対するquantum inspired algorithm <- 鈴木さんの記事がある"
   ]
  },
  {
   "cell_type": "markdown",
   "metadata": {},
   "source": [
    "### 5. 実践例：HHLを使ったポートフォリオ最適化\n",
    "https://arxiv.org/abs/1811.03975\"\n",
    "\"過去の株価変動のデータから、最適なポートフォリオ（資産配分）を計算する。\n",
    "\"このようなポートフォリオ最適化の問題は、量子計算の基本的なアルゴリズムである「HHLアルゴリズム」を用いることで、従来より高速に解けることが期待されている。\n",
    "\n",
    "\"本ノートブックでは、GAFA(Google, Apple, Facebook, Amazon)の4社の株に投資する際、どのような資産配分を行えば最も低いリスクで高いリターンを得られるかという問題を考える。\n",
    "\n",
    "## 株価データ取得\n",
    "- GAFA 4社の日次データを用いる\n",
    "- 株価データ取得のためにpandas_datareaderを用いてYahoo! Financeのデータベースから取得\n",
    "- 株価はドル建ての調整後終値（Adj. Close）を用いる"
   ]
  },
  {
   "cell_type": "code",
   "execution_count": null,
   "metadata": {},
   "outputs": [],
   "source": [
    "# データ取得に必要なpandas_datareaderのインストール\n",
    "# !pip install pandas_datareader\n",
    "\n",
    "import numpy as np\n",
    "import pandas as pd\n",
    "import pandas_datareader.data as web\n",
    "import datetime\n",
    "import matplotlib.pyplot as plt"
   ]
  },
  {
   "cell_type": "markdown",
   "metadata": {},
   "source": [
    "### Grover\n",
    "https://github.com/keisukefujii/QulacsExamples/blob/master/GroverSearch.ipynb"
   ]
  }
 ],
 "metadata": {
  "kernelspec": {
   "display_name": "Python 3",
   "language": "python",
   "name": "python3"
  },
  "language_info": {
   "codemirror_mode": {
    "name": "ipython",
    "version": 3
   },
   "file_extension": ".py",
   "mimetype": "text/x-python",
   "name": "python",
   "nbconvert_exporter": "python",
   "pygments_lexer": "ipython3",
   "version": "3.7.1"
  }
 },
 "nbformat": 4,
 "nbformat_minor": 2
}
