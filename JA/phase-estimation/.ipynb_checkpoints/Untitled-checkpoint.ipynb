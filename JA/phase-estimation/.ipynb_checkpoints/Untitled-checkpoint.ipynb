{
 "cells": [
  {
   "cell_type": "markdown",
   "metadata": {},
   "source": [
    "## 7. 位相推定に基づくアルゴリズム"
   ]
  },
  {
   "cell_type": "markdown",
   "metadata": {},
   "source": [
    "### 2. 位相推定再訪\n",
    "2-4. 位相推定アルゴリズム（入門編）\n",
    "ユニタリ演算$U$の固有値$e^{i\\lambda}$を、$\\lambda/2\\pi$を2進展開 桁ごとに決定的に値を求める方法を紹介した\n",
    "$$\n",
    "\\lambda = (2\\pi) 0.j_1 j_2 \\ldots j_k \\ldots\n",
    "$$\n",
    "\n",
    "このアルゴリズムは、素因数分解や量子化学アルゴリズム(分子などのエネルギー計算)、そしてその他多くのアルゴリズムのサブルーチンとして利用されていおり、量子コンピュータが従来コンピュータよりも指数的に高速に特定の問題において解を得られる（と期待されている）最も重要な例である事にも触れた。\n",
    "この章では分子の基底状態を求める例を実際に量子回路を構成して行う。\n",
    "水素分子を例に\n",
    "位相推定ではハミルトニアンを精度よく近似する事が精度よくエネルギーを測定する上で重要であり、\n",
    "そのためには高次の Trotter-Suzuki 展開を行う必要がある。\n",
    "しかし $U^{2k}$ を準備するため、逆フーリエ変換するための回路が深くなり、長時間コヒーレント状態を維持する必要があるため、NISQ デバイスで実現ない。\n",
    "誤り訂正可能な FTQC 上で実行する必要があるため、Long-term に分類されている。\n",
    "\n",
    "\n",
    "iterative phase estimation"
   ]
  },
  {
   "cell_type": "markdown",
   "metadata": {},
   "source": [
    "### 3. 実践例： 位相推定を使った分子の基底状態エネルギーの計算"
   ]
  },
  {
   "cell_type": "markdown",
   "metadata": {},
   "source": [
    "量子位相推定 (Quantum Phase Estimation, QPE) は、適当なユニタリー $U$ が与えられたとき、その固有値 $e^{i2\\pi\\phi_i}$ をビット列として取り出すためのアルゴリズムである。\n",
    "Nielsen-Chuang の教科書などを参照。\n",
    "QPEは、$U$ の固有値 $e^{i2\\pi\\phi_i}$ に対応する固有ベクトルを $\\ket{u_i}$とするとき、controlled-$U$ と量子フーリエ変換を用いて、次の変換を実現する。\n",
    "$$\n",
    "\\sum_i \\alpha_i\\ket{u_i} \\ket{0^m} \\xrightarrow{\\text{QPE}} \\sum_i \\alpha_i\\ket{u_i} \\ket{b(\\phi_i)}\n",
    "$$\n",
    "ただし $b(\\phi_i)$ は $\\phi_i = \\sum_{k=0}^{m-1} 2^{-k-1}b_k(\\phi_i)$ となるビット列である。\n",
    "\n",
    "Cannonical な方法\n",
    "$exp[-i H]$ の固有値が求められればハミルトニアン $H$ の固有エネルギー値が求まる。 \n",
    "\n",
    "Scalable Quantum Simulation of Molecular Energies,\n",
    "P. J. J. O’Malley et. al.,\n",
    "PHYSICAL REVIEW X 6, 031007 (2016)"
   ]
  },
  {
   "cell_type": "markdown",
   "metadata": {},
   "source": [
    "水素分子の第二量子化されたハミルトニアンは、Bravyi-Kitaev 変換、電子数保存を使って電子状態は 2量子ビットで表される。\n",
    "TODO: qubit reduction の方法追記\n",
    "\n",
    "$$\n",
    "H = \\sum_i g_i H_i = g_0 I + g_1 Z_0 + g_2 Z_1 + g_3 Z_0 Z_1 + g_4 Y_0 Y_1 + g_5 X_0 X_1\n",
    "$$\n",
    "係数 $g_i$ は実数で値は原子間距離に依存する。\n",
    "\n",
    "Hartree-Fock (HF) 状態 $|\\phi \\rangle$ に時間発展演算子 $e^{−iHt}$ を作用させる。\n",
    "$|n \\rangle$ をハミルトニアンの固有状態、それに対応する固有値を $E_n$ とすると、\n",
    "\n",
    "時間発展演算子\n",
    "$$\n",
    "e^{−iHt} |\\phi \\rangle = \\sum_n e^{−i E_n t} \\langle n |\\phi \\rangle |n \\rangle \n",
    "$$\n",
    "\n",
    "この状態を補助ビットとエンタングルさせ、補助ビットの $|0 \\rangle$ と $|1 \\rangle$ 間の位相を測定する。\n",
    "$$\n",
    "e^{−iHt} |+^m \\rangle |\\phi \\rangle \\to \\sum_n e^{−i E_n t} \\langle n |\\phi \\rangle |E_n \\rangle |n \\rangle \n",
    "$$\n",
    "測定が行われると、状態が $|n \\rangle $ に\n",
    "ことで、ハミルトニアンの固有値を求める。\n",
    "\n",
    "\n",
    "\n",
    "量子コンピュータデバイス上で時間発展演算子を準備するためには、量子ゲートに分解する必要がある。\n",
    "上式を Trotter-Suzuki 展開を用いて $exp(i \\theta P)$ の積の形に近似する必要がある。\n",
    "ただしここで $P$ はパウリ行列の積である。\n",
    "\n",
    "The time-evolution operator can be approximated using Trotterization [34] as\n",
    "\n",
    "$$\n",
    "e^{−iHt} = exp[−it \\sum_i g_i H_i] \\approx U_{Torrot} (t) = \\left( \\prod_i \\exp[-i g_i H_i t/n] \\right)^n\n",
    "$$\n",
    "この近似ではエラーが $n$ に線形で依存することが知られている。\n",
    "\n",
    "IQPE\n",
    "Our PEA implementation is based on a modification of Kitaev’s iterative phase estimation algorithm [8,35]. The circuit \n",
    "\n",
    "補助ビット (ancilla bit) を $|+>$ の状態に準備する。"
   ]
  },
  {
   "cell_type": "markdown",
   "metadata": {},
   "source": [
    "### 1. Quantum random access memory (qRAM) とは\n",
    "量子コンピュータ上で古典データを扱う際は、そのデータを量子状態としてエンコードする必要がある。とくにバイナリデータの集まり（ベクトル）を量子状態として効率的に読み出すことは、量子機械学習などの応用において極めて重要である。本節ではqRAM (quantum random acccess memory)について解説する。\n",
    "\n",
    "古典コンピュータにおけるRAM (random access memory)とは、メモリアドレスと対応するデータをセットとして格納し、引き出せるようにする装置である。すなわち、RAMにメモリアドレス$i$を与えると、バイナリデータ$x_i$ を引き出すことができる。\n",
    "\n",
    "$$ i \\quad \\to \\quad x_i $$\n",
    "\n",
    "同様に、qRAMはメモリアドレスに対応する量子状態 $|i \\rangle$ から、対応するデータをエンコードした量子状態 $|x_i \\rangle$（以下、データ状態とよぶ）を引き出せるようにする装置である。\n",
    "\n",
    "$$|i \\rangle \\quad \\to \\quad |i \\rangle \\otimes |x_i \\rangle$$\n",
    "\n",
    "とくに、メモリアドレスとデータを重ね合わせ状態として引き出せるということは、qRAMのもつべき重要な性質である。すなわちメモリアドレス状態の重ね合わせに対して、qRAMはアドレスとデータのエンタングル状態を与える。\n",
    "$$ \\sum_{i=1}^N  |i \\rangle \\quad \\to \\quad \\sum_{i=1}^N |i \\rangle \\otimes |x_i \\rangle $$\n",
    "\n",
    "ここで$N$はデータの件数である。\n",
    "\n",
    "qRAMは必ずしも量子状態そのものを保持する必要がないということに注意されたい。すなわちバイナリデータのベクトルが与えられたとき、効率的に重ね合わせ状態を生成する量子回路の記述が与えられれば、qRAMとしての役割を果たす。qRAMの仕組みを実現するアーキテクチャにはとくに決まったものはなく、現在も研究途上である。\n",
    "\n",
    "`Quantum Random Access Memory (QRAM)` とは、あるバイナリデータ $x_i$ のアドレス $i$ を記述する量子ビット列 $| i \\rangle $ が与えられたとき、そのデータ $x_i$ を量子ビット列 $| x_i \\rangle$ として取り出す機能のことである。\n",
    "具体的には、次のような機能が QRAM と呼ばれることが多いようだ。\n",
    "$$ | i \\rangle | 0 \\rangle \\xrightarrow{QRAM} | i \\rangle | x_i \\rangle $$\n",
    "通常 QRAM はユニタリーなプロセスとして実現することが仮定される。したがって、QRAMの存在を仮定するとき、以下のように重ね合わせ状態を入力すれば、同時並列的にデータを量子状態にエンコードすることが可能である。\n",
    "$$ \\frac{1}{\\sqrt{N}}\\sum_{i=1}^N | i \\rangle | 0 \\rangle \\xrightarrow{QRAM} \\frac{1}{\\sqrt{N}}\\sum_i | i \\rangle | x_i \\rangle $$\n",
    "現実にこれが可能であるかどうかはまだわからない。具体的な実装方法としては \n",
    "V. Giovannetti, S. Lloyd, L. Maccone, Phys. Rev. A 78, 052310 (2008) \n",
    "10.1103/PhysRevA.78.052310\n",
    "などで提案がある。\n",
    "\n",
    "\n",
    "## 振幅エンコーディング\n",
    "HHLアルゴリズムおよびそれをベースとする機械学習アルゴリズムでは、qRAM上のデータを状態としてではなく、振幅として利用したい場合がある。そのためには、qRAMから読み出したデータに対して次のような変換を行いたい。\n",
    "\n",
    "$$ \\sum_{i=1}^N |i \\rangle \\otimes |x_i \\rangle \\quad \\to \\quad \\frac{1}{||{\\\\bf x}||} \\sum_{i=1}^N x_i |i \\rangle $$\n",
    "\n",
    "ここで $||{\\\\bf x}||$ はベクトル $x_i$ のノルムである。この変換をユニタリ変換として実現する方法はPrakashの博士論文において提案された[1]。具体的な実現方法の解説は[2,3]に詳しい。\n",
    "\n",
    "### 参考文献\n",
    "[1] Anupam Prakash. \\\"Quantum Algorithms for Linear Algebra and Machine Learning\\\". PhD thesis, EECS Department, University of California, Berkeley, Dec 2014. <br>\n",
    "[2] https://www2.yukawa.kyoto-u.ac.jp/~qischool2019/mitaraiCTO.pdf\\n\", <br>\n",
    "[3] Danial Dervovic, et al. \\\"Quantum linear systems algorithms: a primer\\\". eprint: https://arxiv.org/abs/1802.08227\""
   ]
  },
  {
   "cell_type": "markdown",
   "metadata": {},
   "source": [
    "### 4. HHLアルゴリズム (コードはある "
   ]
  },
  {
   "cell_type": "markdown",
   "metadata": {},
   "source": [
    "### コラム：低ランクに対するquantum inspired algorithm <- 鈴木さんの記事がある"
   ]
  },
  {
   "cell_type": "markdown",
   "metadata": {},
   "source": [
    "### 5. 実践例：HHLを使ったポートフォリオ最適化 (すでにある "
   ]
  }
 ],
 "metadata": {
  "kernelspec": {
   "display_name": "Python 3",
   "language": "python",
   "name": "python3"
  },
  "language_info": {
   "codemirror_mode": {
    "name": "ipython",
    "version": 3
   },
   "file_extension": ".py",
   "mimetype": "text/x-python",
   "name": "python",
   "nbconvert_exporter": "python",
   "pygments_lexer": "ipython3",
   "version": "3.7.1"
  }
 },
 "nbformat": 4,
 "nbformat_minor": 2
}
